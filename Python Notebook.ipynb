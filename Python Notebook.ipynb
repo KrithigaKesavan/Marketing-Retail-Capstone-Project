{
 "cells": [
  {
   "cell_type": "markdown",
   "id": "ceb5ad54",
   "metadata": {},
   "source": [
    "# Marketing and Retail Analytics"
   ]
  },
  {
   "cell_type": "markdown",
   "id": "716cb6ae",
   "metadata": {},
   "source": [
    "### Problem Statement"
   ]
  },
  {
   "cell_type": "markdown",
   "id": "e22bdd7e",
   "metadata": {},
   "source": [
    "OList is an e-commerce company that has faced some losses recently and they want to manage their inventory very well so as to reduce any unnecessary costs that they might be bearing. In this assignment, you have to manage the inventory cost of this e-commerce company OList. You need to identify top products that contribute to the revenue and also use market basket analysis to analyse the purchase behaviour of individual customers to estimate with relative certainty, what items are more likely to be purchased individually or in combination with some other products."
   ]
  },
  {
   "cell_type": "code",
   "execution_count": null,
   "id": "d0fb5734",
   "metadata": {},
   "outputs": [],
   "source": [
    "#Importing Libraries\n",
    "import numpy as np\n",
    "import pandas as pd\n",
    "import matplotlib.pyplot as plt\n",
    "import seaborn as sns\n",
    "import warnings\n",
    "warnings.filterwarnings(\"ignore\")"
   ]
  },
  {
   "cell_type": "markdown",
   "id": "8222b799",
   "metadata": {},
   "source": [
    "### Data cleaning"
   ]
  },
  {
   "cell_type": "markdown",
   "id": "64113c13",
   "metadata": {},
   "source": [
    "Exploring and cleaning the datasets one by one from the excel file."
   ]
  },
  {
   "cell_type": "markdown",
   "id": "944762cb",
   "metadata": {},
   "source": [
    "#### 1. Orders"
   ]
  },
  {
   "cell_type": "code",
   "execution_count": null,
   "id": "258bef0c",
   "metadata": {},
   "outputs": [],
   "source": [
    "#Reading the orders dataset\n",
    "orders = pd.read_excel(\"Retail_data.xlsx\", sheet_name = \"orders\")\n",
    "orders.head()"
   ]
  },
  {
   "cell_type": "code",
   "execution_count": null,
   "id": "612cf518",
   "metadata": {},
   "outputs": [],
   "source": [
    "orders.shape"
   ]
  },
  {
   "cell_type": "code",
   "execution_count": null,
   "id": "9fe156a0",
   "metadata": {},
   "outputs": [],
   "source": [
    "#Checking duplicate values for the column order id\n",
    "orders[\"order_id\"].duplicated().sum()"
   ]
  },
  {
   "cell_type": "code",
   "execution_count": null,
   "id": "453d0fcd",
   "metadata": {},
   "outputs": [],
   "source": [
    "#checking duplicate values for the column customer id\n",
    "orders[\"customer_id\"].duplicated().sum()"
   ]
  },
  {
   "cell_type": "code",
   "execution_count": null,
   "id": "6f751e71",
   "metadata": {},
   "outputs": [],
   "source": [
    "orders[\"customer_id\"].value_counts().sort_values(ascending=False).head(10)"
   ]
  },
  {
   "cell_type": "code",
   "execution_count": null,
   "id": "302e401c",
   "metadata": {},
   "outputs": [],
   "source": [
    "orders.head()"
   ]
  },
  {
   "cell_type": "code",
   "execution_count": null,
   "id": "e65b92c1",
   "metadata": {},
   "outputs": [],
   "source": [
    "orders[\"order_status\"].value_counts()"
   ]
  },
  {
   "cell_type": "code",
   "execution_count": null,
   "id": "855f6e4c",
   "metadata": {},
   "outputs": [],
   "source": [
    "#Filtering the order status to delivered\n",
    "orders = orders[orders[\"order_status\"] == \"delivered\"]\n",
    "orders.shape"
   ]
  },
  {
   "cell_type": "code",
   "execution_count": null,
   "id": "13e2167f",
   "metadata": {},
   "outputs": [],
   "source": [
    "orders.head()"
   ]
  },
  {
   "cell_type": "code",
   "execution_count": null,
   "id": "5826880b",
   "metadata": {},
   "outputs": [],
   "source": [
    "#Checking null values present in the data set\n",
    "orders.isnull().sum()"
   ]
  },
  {
   "cell_type": "code",
   "execution_count": null,
   "id": "127e65b9",
   "metadata": {},
   "outputs": [],
   "source": [
    "#Filling the missing values\n",
    "orders[\"order_approved_at\"].fillna(orders[\"order_purchase_timestamp\"],inplace=True)\n",
    "orders[\"order_delivered_timestamp\"].fillna(orders[\"order_estimated_delivery_date\"],inplace=True)"
   ]
  },
  {
   "cell_type": "code",
   "execution_count": null,
   "id": "7b57007b",
   "metadata": {},
   "outputs": [],
   "source": [
    "orders.isnull().sum()"
   ]
  },
  {
   "cell_type": "markdown",
   "id": "88db7486",
   "metadata": {},
   "source": [
    "#### 2. Order_items"
   ]
  },
  {
   "cell_type": "code",
   "execution_count": null,
   "id": "9a930677",
   "metadata": {},
   "outputs": [],
   "source": [
    "#Reading order items dataset\n",
    "order_items = pd.read_excel(\"Retail_data.xlsx\",sheet_name=\"order_items\")\n",
    "order_items.head()"
   ]
  },
  {
   "cell_type": "code",
   "execution_count": null,
   "id": "7b68a80a",
   "metadata": {},
   "outputs": [],
   "source": [
    "order_items.shape"
   ]
  },
  {
   "cell_type": "code",
   "execution_count": null,
   "id": "ff0bc428",
   "metadata": {},
   "outputs": [],
   "source": [
    "#Checking duplicates\n",
    "order_items.duplicated().sum()"
   ]
  },
  {
   "cell_type": "code",
   "execution_count": null,
   "id": "b890a4e8",
   "metadata": {},
   "outputs": [],
   "source": [
    "#Checking null values\n",
    "order_items.isnull().sum()"
   ]
  },
  {
   "cell_type": "markdown",
   "id": "5eb04395",
   "metadata": {},
   "source": [
    "#### 3. Customers"
   ]
  },
  {
   "cell_type": "code",
   "execution_count": null,
   "id": "dced9206",
   "metadata": {},
   "outputs": [],
   "source": [
    "#Reading customers dataset\n",
    "customers = pd.read_excel(\"Retail_data.xlsx\",sheet_name=\"customers\")\n",
    "customers.head()"
   ]
  },
  {
   "cell_type": "code",
   "execution_count": null,
   "id": "a66786a3",
   "metadata": {},
   "outputs": [],
   "source": [
    "customers.shape"
   ]
  },
  {
   "cell_type": "code",
   "execution_count": null,
   "id": "e13c4993",
   "metadata": {},
   "outputs": [],
   "source": [
    "#Checking null values\n",
    "customers.isnull().sum()"
   ]
  },
  {
   "cell_type": "code",
   "execution_count": null,
   "id": "0ff9d3cc",
   "metadata": {},
   "outputs": [],
   "source": [
    "#Checking duplicates\n",
    "customers[\"customer_id\"].duplicated().sum()"
   ]
  },
  {
   "cell_type": "code",
   "execution_count": null,
   "id": "e19741f8",
   "metadata": {},
   "outputs": [],
   "source": [
    "#Dropping the duplicates\n",
    "customers.drop_duplicates(subset=\"customer_id\", keep=\"first\", inplace=True)"
   ]
  },
  {
   "cell_type": "code",
   "execution_count": null,
   "id": "0cb2c63a",
   "metadata": {},
   "outputs": [],
   "source": [
    "customers.shape"
   ]
  },
  {
   "cell_type": "markdown",
   "id": "9805093f",
   "metadata": {},
   "source": [
    "#### 4. Payments"
   ]
  },
  {
   "cell_type": "code",
   "execution_count": null,
   "id": "8e3a2549",
   "metadata": {},
   "outputs": [],
   "source": [
    "#Reading payments dataset\n",
    "payments = pd.read_excel(\"Retail_data.xlsx\",sheet_name=\"payments\")\n",
    "payments.head()"
   ]
  },
  {
   "cell_type": "code",
   "execution_count": null,
   "id": "e25489b8",
   "metadata": {},
   "outputs": [],
   "source": [
    "payments.shape"
   ]
  },
  {
   "cell_type": "code",
   "execution_count": null,
   "id": "46b61fb1",
   "metadata": {},
   "outputs": [],
   "source": [
    "#Checking duplicates\n",
    "payments.duplicated().sum()"
   ]
  },
  {
   "cell_type": "code",
   "execution_count": null,
   "id": "68d74ae9",
   "metadata": {},
   "outputs": [],
   "source": [
    "#Checking null values\n",
    "payments.isnull().sum()"
   ]
  },
  {
   "cell_type": "code",
   "execution_count": null,
   "id": "40353f44",
   "metadata": {},
   "outputs": [],
   "source": [
    "#Checking the most used 'payment_type' and their counts.\n",
    "payments[\"payment_type\"].value_counts()"
   ]
  },
  {
   "cell_type": "code",
   "execution_count": null,
   "id": "535f5833",
   "metadata": {},
   "outputs": [],
   "source": [
    "#Since there are only 3 recors affected, we can drop these records.\n",
    "\n",
    "i=payments[payments['payment_type']=='not_defined'].index\n",
    "payments.drop(i, axis=0, inplace=True)"
   ]
  },
  {
   "cell_type": "code",
   "execution_count": null,
   "id": "79a6ff89",
   "metadata": {},
   "outputs": [],
   "source": [
    "payments[\"payment_type\"].value_counts()"
   ]
  },
  {
   "cell_type": "markdown",
   "id": "6f94fde5",
   "metadata": {},
   "source": [
    "#### 5. Products"
   ]
  },
  {
   "cell_type": "code",
   "execution_count": null,
   "id": "4efeb5dd",
   "metadata": {},
   "outputs": [],
   "source": [
    "#Reading products dataset\n",
    "products = pd.read_excel(\"Retail_data.xlsx\",sheet_name=\"products\")\n",
    "products.head()"
   ]
  },
  {
   "cell_type": "code",
   "execution_count": null,
   "id": "a867e944",
   "metadata": {},
   "outputs": [],
   "source": [
    "products.shape"
   ]
  },
  {
   "cell_type": "code",
   "execution_count": null,
   "id": "55ca1e69",
   "metadata": {},
   "outputs": [],
   "source": [
    "#Checking duplicates\n",
    "products.duplicated().sum()"
   ]
  },
  {
   "cell_type": "code",
   "execution_count": null,
   "id": "f7f44949",
   "metadata": {},
   "outputs": [],
   "source": [
    "#checking null values\n",
    "products.isnull().sum()"
   ]
  },
  {
   "cell_type": "code",
   "execution_count": null,
   "id": "e82db987",
   "metadata": {},
   "outputs": [],
   "source": [
    "#Replacing the null values with mode value\n",
    "products[\"product_category_name\"].mode()"
   ]
  },
  {
   "cell_type": "code",
   "execution_count": null,
   "id": "8c6d61ad",
   "metadata": {},
   "outputs": [],
   "source": [
    "products[\"product_category_name\"].fillna(products[\"product_category_name\"].mode()[0],inplace=True)"
   ]
  },
  {
   "cell_type": "code",
   "execution_count": null,
   "id": "b1584979",
   "metadata": {},
   "outputs": [],
   "source": [
    "products.isnull().sum()"
   ]
  },
  {
   "cell_type": "code",
   "execution_count": null,
   "id": "0a270259",
   "metadata": {},
   "outputs": [],
   "source": [
    "products.describe()"
   ]
  },
  {
   "cell_type": "code",
   "execution_count": null,
   "id": "e59238ee",
   "metadata": {},
   "outputs": [],
   "source": [
    "#Visualizing numerical columns to fill the missing values\n",
    "num_col =[\"product_weight_g\",\"product_length_cm\",\"product_height_cm\",\"product_width_cm\"]"
   ]
  },
  {
   "cell_type": "code",
   "execution_count": null,
   "id": "d180ba6b",
   "metadata": {},
   "outputs": [],
   "source": [
    "for i in num_col:\n",
    "    plt.figure(figsize=(12,5))\n",
    "    sns.distplot(products[i])\n",
    "    plt.axvline(products[i].mean(), color=\"blue\")\n",
    "    plt.axvline(products[i].median(), color=\"red\")\n",
    "    plt.show()"
   ]
  },
  {
   "cell_type": "code",
   "execution_count": null,
   "id": "87b9bb20",
   "metadata": {},
   "outputs": [],
   "source": [
    "for i in num_col:\n",
    "    products[i].fillna(products[i].median(), inplace=True)"
   ]
  },
  {
   "cell_type": "code",
   "execution_count": null,
   "id": "aa6348fb",
   "metadata": {},
   "outputs": [],
   "source": [
    "products.isnull().sum()"
   ]
  },
  {
   "cell_type": "markdown",
   "id": "9aa46207",
   "metadata": {},
   "source": [
    "### Merging Dataframes\n",
    "\n",
    "Creating a new dataframe 'New_retail', which will contain the data merged using different dataframes."
   ]
  },
  {
   "cell_type": "code",
   "execution_count": null,
   "id": "381c5094",
   "metadata": {},
   "outputs": [],
   "source": [
    "#Merging 'orders' with 'order_items'\n",
    "New_retail = pd.merge(orders,order_items,how='inner',on='order_id')"
   ]
  },
  {
   "cell_type": "code",
   "execution_count": null,
   "id": "037c81ec",
   "metadata": {},
   "outputs": [],
   "source": [
    "New_retail.shape"
   ]
  },
  {
   "cell_type": "code",
   "execution_count": null,
   "id": "44d023f0",
   "metadata": {},
   "outputs": [],
   "source": [
    "#Merging 'New_retail' with 'products'\n",
    "New_retail = pd.merge(New_retail,products,how='inner',on='product_id')"
   ]
  },
  {
   "cell_type": "code",
   "execution_count": null,
   "id": "6bc60358",
   "metadata": {},
   "outputs": [],
   "source": [
    "New_retail.shape"
   ]
  },
  {
   "cell_type": "code",
   "execution_count": null,
   "id": "50dce17d",
   "metadata": {},
   "outputs": [],
   "source": [
    "#Merging 'New_retail' with 'payments'\n",
    "New_retail = pd.merge(New_retail,payments,how='inner',on='order_id')"
   ]
  },
  {
   "cell_type": "code",
   "execution_count": null,
   "id": "6fe68ade",
   "metadata": {},
   "outputs": [],
   "source": [
    "New_retail.shape"
   ]
  },
  {
   "cell_type": "code",
   "execution_count": null,
   "id": "9a7b4aaa",
   "metadata": {},
   "outputs": [],
   "source": [
    "#Merging 'New_retail' with 'customers'\n",
    "New_retail = pd.merge(New_retail,customers,how='inner',on='customer_id')"
   ]
  },
  {
   "cell_type": "code",
   "execution_count": null,
   "id": "92e8162a",
   "metadata": {},
   "outputs": [],
   "source": [
    "New_retail.shape"
   ]
  },
  {
   "cell_type": "code",
   "execution_count": null,
   "id": "2807d6d0",
   "metadata": {},
   "outputs": [],
   "source": [
    "New_retail.head()"
   ]
  },
  {
   "cell_type": "code",
   "execution_count": null,
   "id": "9902beee",
   "metadata": {},
   "outputs": [],
   "source": [
    "New_retail.isnull().sum()"
   ]
  },
  {
   "cell_type": "code",
   "execution_count": null,
   "id": "ac91b1e1",
   "metadata": {},
   "outputs": [],
   "source": [
    "#Checking for outliers\n",
    "plt.figure(figsize=(10,6))\n",
    "sns.boxplot(data=New_retail, y=New_retail['price'])\n",
    "plt.figure(figsize=(10,6))\n",
    "sns.boxplot(data=New_retail, y=New_retail['shipping_charges'])\n",
    "plt.show()"
   ]
  },
  {
   "cell_type": "code",
   "execution_count": null,
   "id": "e1b9f0bd",
   "metadata": {},
   "outputs": [],
   "source": [
    "#Visualizing price and shipping charges for imputation\n",
    "plt.figure(figsize=(15,5))\n",
    "sns.distplot(New_retail.price)\n",
    "plt.axvline(New_retail.price.mean(), color=\"red\")\n",
    "plt.axvline(New_retail.price.median(), color=\"blue\")\n",
    "plt.figure(figsize=(15,4))\n",
    "sns.distplot(New_retail.shipping_charges)\n",
    "plt.axvline(New_retail.shipping_charges.mean(), color=\"red\")\n",
    "plt.axvline(New_retail.shipping_charges.median(), color=\"blue\")\n",
    "plt.show()"
   ]
  },
  {
   "cell_type": "code",
   "execution_count": null,
   "id": "c39bce4e",
   "metadata": {},
   "outputs": [],
   "source": [
    "#Imputing outliers using median values\n",
    "New_retail.loc[((New_retail['price']>3000) & (New_retail['product_category_name']=='toys')), 'price']=New_retail['price'].median()\n",
    "New_retail.loc[New_retail['shipping_charges']>100, 'shipping_charges'] = New_retail['shipping_charges'].median()"
   ]
  },
  {
   "cell_type": "markdown",
   "id": "2fef49a2",
   "metadata": {},
   "source": [
    "### Exporting cleaned data to excel"
   ]
  },
  {
   "cell_type": "code",
   "execution_count": null,
   "id": "814e4abf",
   "metadata": {},
   "outputs": [],
   "source": [
    "from pandas import ExcelWriter\n",
    "import numpy as np\n",
    "import pandas as pd\n",
    "import matplotlib.pyplot as plt\n",
    "import seaborn as sns\n",
    "import warnings\n",
    "warnings.filterwarnings(\"ignore\")"
   ]
  },
  {
   "cell_type": "code",
   "execution_count": null,
   "id": "1100a276",
   "metadata": {},
   "outputs": [],
   "source": [
    "#Extracting the clean datasheets to be uploaded\n",
    "with pd.ExcelWriter(r\"C:\\Users\\Dell\\Downloads\\UpGrad\\Capstone Project\\Cleaned_Retail_Data.xlsx\") as excel_sheets:\n",
    "    #Extracting the clean datasheets\n",
    "    orders.to_excel(excel_sheets, sheet_name=\"orders\", index=False)\n",
    "    order_items.to_excel(excel_sheets, sheet_name=\"order_items\", index=False)\n",
    "    products.to_excel(excel_sheets, sheet_name=\"products\", index=False)\n",
    "    customers.to_excel(excel_sheets, sheet_name=\"customers\", index=False)\n",
    "    payments.to_excel(excel_sheets, sheet_name=\"payments\", index=False)"
   ]
  },
  {
   "cell_type": "markdown",
   "id": "a06a4e04",
   "metadata": {},
   "source": [
    "# Market Basket Analysis"
   ]
  },
  {
   "cell_type": "markdown",
   "id": "90fac345",
   "metadata": {},
   "source": [
    "### Apriori Algorithm & Association Rule\n",
    "Apriori algorithms is a data mining algorithm used for mining frequent itemsets and relevant association rules. It is devised to operate on a database that contain transactions -like, items bought by a customer in a store.\n",
    "\n",
    "An itemset can be considered frequent if it meets a user-specified support threshold. For example, if the support threshold is set to 0.5(50%), a frequent itemset is a set of items that are bought/purchased together in atleast 50% of all transactions.\n",
    "\n",
    "Association rules are a set of rules derived from a database, that can help determining relationship among variables in a large transactional database"
   ]
  },
  {
   "cell_type": "code",
   "execution_count": null,
   "id": "f3d25886",
   "metadata": {},
   "outputs": [],
   "source": [
    "#Installing external package\n",
    "!pip install mlxtend"
   ]
  },
  {
   "cell_type": "code",
   "execution_count": null,
   "id": "29aec178",
   "metadata": {},
   "outputs": [],
   "source": [
    "# Importing libraries for performing Market Basket Analysis\n",
    "from mlxtend.frequent_patterns import apriori\n",
    "from mlxtend.frequent_patterns import association_rules"
   ]
  },
  {
   "cell_type": "code",
   "execution_count": null,
   "id": "ee3db4e1",
   "metadata": {},
   "outputs": [],
   "source": [
    "#Updating New_retail dataframe with only the required columns for market basket analysis\n",
    "New_retail = New_retail[['order_id','product_category_name', 'order_item_id']]"
   ]
  },
  {
   "cell_type": "code",
   "execution_count": null,
   "id": "9e754b29",
   "metadata": {},
   "outputs": [],
   "source": [
    "#Checking for duplicate values\n",
    "New_retail.duplicated().sum()"
   ]
  },
  {
   "cell_type": "code",
   "execution_count": null,
   "id": "054f93bf",
   "metadata": {},
   "outputs": [],
   "source": [
    "#Dropping the duplicate values\n",
    "New_retail.drop_duplicates(keep='first', inplace=True)"
   ]
  },
  {
   "cell_type": "code",
   "execution_count": null,
   "id": "d41f8909",
   "metadata": {},
   "outputs": [],
   "source": [
    "#Creating prd_combo dataframe using pandas pivot table\n",
    "product_combo = pd.pivot_table(data=New_retail,index='order_id',columns='product_category_name',\n",
    "                              values='order_item_id',fill_value=0)"
   ]
  },
  {
   "cell_type": "code",
   "execution_count": null,
   "id": "af16acbb",
   "metadata": {},
   "outputs": [],
   "source": [
    "product_combo.head()"
   ]
  },
  {
   "cell_type": "code",
   "execution_count": null,
   "id": "fac1b1af",
   "metadata": {},
   "outputs": [],
   "source": [
    "#For basket analysis encoding the data to 1s and 0s \n",
    "def encode_data(x):\n",
    "    if x<=0:\n",
    "        return 0\n",
    "    if x>=1:\n",
    "        return 1\n",
    "product_combo_encode = product_combo.applymap(encode_data)"
   ]
  },
  {
   "cell_type": "code",
   "execution_count": null,
   "id": "3c307f1d",
   "metadata": {},
   "outputs": [],
   "source": [
    "product_combo_encode.shape"
   ]
  },
  {
   "cell_type": "code",
   "execution_count": null,
   "id": "cde1c577",
   "metadata": {},
   "outputs": [],
   "source": [
    "#Dropping the Product_cataegories (columns) whose sum value (total_sale) is less than equal to 5\n",
    "for column in product_combo_encode.columns:\n",
    "    if (product_combo_encode[column].sum(axis=0, skipna=True)<=5):\n",
    "        product_combo_encode.drop(column, inplace=True, axis=1)"
   ]
  },
  {
   "cell_type": "code",
   "execution_count": null,
   "id": "16b40990",
   "metadata": {},
   "outputs": [],
   "source": [
    "product_combo_encode.shape"
   ]
  },
  {
   "cell_type": "markdown",
   "id": "64ec855d",
   "metadata": {},
   "source": [
    "Selecting only those order_ids where at least two items were purchased to find product combinations.This is required else the 'Toys' product_category will affect the whole analysis as the Support value for 'Toys' is biased due to its too much presence as single item orders "
   ]
  },
  {
   "cell_type": "code",
   "execution_count": null,
   "id": "69140dda",
   "metadata": {},
   "outputs": [],
   "source": [
    "product_combo_encode = product_combo_encode[(product_combo_encode>0).sum(axis=1)>=2]\n",
    "product_combo_encode.head()"
   ]
  },
  {
   "cell_type": "markdown",
   "id": "3f477c4b",
   "metadata": {},
   "source": [
    "#### Generating frequent itemsets from a list of items\n",
    "\n",
    "First step in generation of association rules is to get all the frequent itemsets.Frequent itemsets are the ones which occur at least a minimum number of times in the transactions."
   ]
  },
  {
   "cell_type": "markdown",
   "id": "f162593e",
   "metadata": {},
   "source": [
    "#### Support\n",
    "This says how popular an itemset is, as measured by the proportion of transactions in which an itemset appears\n",
    "\n",
    "If you discover that sales of items beyond a certain proportion tend to have a significant impact on your profits, you might consider using that proportion as your support threshold. You may then identify itemsets with support values above this threshold as significant itemsets\n",
    "#### Confidence\n",
    "This says how likely item Y is purchased when item X is purchased, expressed as {X -> Y}. This is measured by the proportion of transactions with item X, in which item Y also appears\n",
    "\n",
    "One drawback of the confidence measure is that it might misrepresent the importance of an association. This is because it only accounts for how popular apples are, but not beers. If beers are also very popular in general, there will be a higher chance that a transaction containing apples will also contain beers, thus inflating the confidence measure. To account for the base popularity of both constituent items, we use a third measure called lift.\n",
    "#### Confidence(x-->Y) = Support(X,Y)/Support(X)\n",
    "#### Lift\n",
    "This says how likely item Y is purchased when item X is purchased, while controlling for how popular item Y is. In Table 1, the lift of {apple -> beer} is 1,which implies no association between items. A lift value greater than 1 means that item Y is likely to be bought if item X is bought, while a value less than 1 means that item Y is unlikely to be bought if item X is bought\n",
    "#### Lift (X-->Y) = Support(X,Y)/Support(X)*Support(Y)"
   ]
  },
  {
   "cell_type": "code",
   "execution_count": null,
   "id": "44a82b4d",
   "metadata": {},
   "outputs": [],
   "source": [
    "#Call apriori function and passing minimum support here we are passing 3%, which means at least 3% in total number of transaction the item should be present.'''\n",
    "\n",
    "frequent_items = apriori(product_combo_encode, min_support=0.03, use_colnames=True).sort_values('support', ascending=False).reset_index(drop=True)\n",
    "\n",
    "frequent_items"
   ]
  },
  {
   "cell_type": "markdown",
   "id": "fe453770",
   "metadata": {},
   "source": [
    "#### Generating all possible rules from the frequent itemsets.\n",
    "\n",
    "After the frequent itemsets are generated, identifying rules such as Confidence and Lift"
   ]
  },
  {
   "cell_type": "code",
   "execution_count": null,
   "id": "dfdec070",
   "metadata": {},
   "outputs": [],
   "source": [
    "#We would apply association rules on frequent itemset to find product combinations\n",
    "rules_conf = association_rules(frequent_items, metric=\"confidence\", min_threshold=0.1)\n",
    "rules_conf"
   ]
  },
  {
   "cell_type": "code",
   "execution_count": null,
   "id": "bc170ff8",
   "metadata": {},
   "outputs": [],
   "source": [
    "#Keeping minimum lift as >1.\n",
    "rules_lift=rules_conf[(rules_conf['lift'] > 1)]\n",
    "rules_lift"
   ]
  },
  {
   "cell_type": "markdown",
   "id": "fea8f8f7",
   "metadata": {},
   "source": [
    "## Observations\n",
    "\n",
    "Top products categories in groups of two’s are:\n",
    "\n",
    "1. Toys and Bed Bath Table\n",
    "2. Toys and Fashion Bags Accessories\n",
    "3. Toys and Auto\n",
    "4. Toys and Watches Gift\n"
   ]
  },
  {
   "cell_type": "code",
   "execution_count": null,
   "id": "664fdb4b",
   "metadata": {},
   "outputs": [],
   "source": [
    "# Filter the Basket with the sum of values having >=3\n",
    "\n",
    "product_combo_encode_1 = product_combo_encode[(product_combo_encode > 0).sum(axis=1) >=3]\n",
    "product_combo_encode_1"
   ]
  },
  {
   "cell_type": "code",
   "execution_count": null,
   "id": "d5344304",
   "metadata": {},
   "outputs": [],
   "source": [
    "frequent_items_1 = apriori(product_combo_encode_1, min_support=0.03, \n",
    "                            use_colnames=True).sort_values('support', ascending=False).reset_index(drop=True)\n",
    "frequent_items_1"
   ]
  },
  {
   "cell_type": "code",
   "execution_count": null,
   "id": "0f0a4854",
   "metadata": {},
   "outputs": [],
   "source": [
    "#We would apply association rules on frequent itemset to find product combinations\n",
    "rules_conf = association_rules(frequent_items_1, metric=\"confidence\", min_threshold=0.1)\n",
    "rules_conf"
   ]
  },
  {
   "cell_type": "code",
   "execution_count": null,
   "id": "1048acae",
   "metadata": {},
   "outputs": [],
   "source": [
    "#Keeping minimum lift as >1.\n",
    "rules_lift=rules_conf[(rules_conf['lift'] > 1)]\n",
    "rules_lift.head()"
   ]
  },
  {
   "cell_type": "markdown",
   "id": "e4068bc1",
   "metadata": {},
   "source": [
    "## Observations\n",
    "\n",
    "Top products categories in groups of threes are:\n",
    "\n",
    "1. Toys, Bed bath table and Housewares\n",
    "2. Toys, Bed bath table and Office furniture\t\n",
    "3. Toys, Garden Tools and Computer Accessories\n",
    "4. Toys, Furniture Decor and Electronics\n",
    "5. Toys, Bed bath table and Health and Beauty"
   ]
  }
 ],
 "metadata": {
  "kernelspec": {
   "display_name": "Python 3",
   "language": "python",
   "name": "python3"
  },
  "language_info": {
   "codemirror_mode": {
    "name": "ipython",
    "version": 3
   },
   "file_extension": ".py",
   "mimetype": "text/x-python",
   "name": "python",
   "nbconvert_exporter": "python",
   "pygments_lexer": "ipython3",
   "version": "3.8.8"
  }
 },
 "nbformat": 4,
 "nbformat_minor": 5
}
